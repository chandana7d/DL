{
 "cells": [
  {
   "cell_type": "markdown",
   "metadata": {},
   "source": [
    "# Import"
   ]
  },
  {
   "cell_type": "code",
   "execution_count": 1,
   "metadata": {},
   "outputs": [
    {
     "name": "stderr",
     "output_type": "stream",
     "text": [
      "C:\\Users\\Ali\\Anaconda3\\lib\\site-packages\\h5py\\__init__.py:34: FutureWarning: Conversion of the second argument of issubdtype from `float` to `np.floating` is deprecated. In future, it will be treated as `np.float64 == np.dtype(float).type`.\n",
      "  from ._conv import register_converters as _register_converters\n"
     ]
    },
    {
     "name": "stdout",
     "output_type": "stream",
     "text": [
      "Extracting MNIST_data/train-images-idx3-ubyte.gz\n",
      "Extracting MNIST_data/train-labels-idx1-ubyte.gz\n",
      "Extracting MNIST_data/t10k-images-idx3-ubyte.gz\n",
      "Extracting MNIST_data/t10k-labels-idx1-ubyte.gz\n"
     ]
    }
   ],
   "source": [
    "import tensorflow as tf\n",
    "import time\n",
    "\n",
    "from tensorflow.examples.tutorials.mnist import input_data\n",
    "mnist = input_data.read_data_sets(\"MNIST_data/\", one_hot=True)"
   ]
  },
  {
   "cell_type": "markdown",
   "metadata": {},
   "source": [
    "# Parameters"
   ]
  },
  {
   "cell_type": "code",
   "execution_count": 2,
   "metadata": {
    "collapsed": true
   },
   "outputs": [],
   "source": [
    "# The length of window in the pooling layer\n",
    "k = 2\n",
    "\n",
    "# Parameters\n",
    "learning_rate = 0.0005\n",
    "training_epochs = 50\n",
    "batch_size = 200\n",
    "display_step = 1"
   ]
  },
  {
   "cell_type": "markdown",
   "metadata": {},
   "source": [
    "# Define 2-d Convolution Function"
   ]
  },
  {
   "cell_type": "code",
   "execution_count": 3,
   "metadata": {
    "collapsed": true
   },
   "outputs": [],
   "source": [
    "def module_conv2d(x, weight_shape, bias_shape):\n",
    "    \"\"\"\n",
    "    https://www.tensorflow.org/api_docs/python/tf/nn/conv2d\n",
    "    Computes a 2 dimentional convolution given the 4d input and filter\n",
    "    input:\n",
    "        x: [batch, in_height, in_width, in_channels]\n",
    "        weight: [filter_height, filter_width, in_channels, out_channels]\n",
    "        bias: [out_channels]\n",
    "    output:\n",
    "        The relu activation of convolution\n",
    "    \"\"\"\n",
    "    print([weight_shape[0], weight_shape[1], weight_shape[2], weight_shape[3]])\n",
    "    sizeIn = weight_shape[0] * weight_shape[1] * weight_shape[2]\n",
    "    \n",
    "    # initialize weights with data generated from a normal distribution.\n",
    "    # Sometimes, a smaller stddev can improve the accuracy significantly. Take some trials by yourself.\n",
    "    weight_init = tf.random_normal_initializer(stddev=(2.0/sizeIn)**0.5)\n",
    "    W = tf.get_variable(\"W\", weight_shape, initializer=weight_init)\n",
    "    \n",
    "    # initialize bias with zeros\n",
    "    bias_init = tf.constant_initializer(value=0)\n",
    "    b = tf.get_variable(\"b\", bias_shape, initializer=bias_init)\n",
    "    \n",
    "    # Specify the stride length to be one in all directions.\n",
    "    # padding='SAME': pad enough so the output has the same dimensions as the input tensor.\n",
    "    return tf.nn.relu(tf.nn.bias_add(tf.nn.conv2d(x, W, strides=[1, 1, 1, 1], padding='SAME'), b))"
   ]
  },
  {
   "cell_type": "markdown",
   "metadata": {},
   "source": [
    "# Define Layer Function"
   ]
  },
  {
   "cell_type": "code",
   "execution_count": 4,
   "metadata": {
    "collapsed": true
   },
   "outputs": [],
   "source": [
    "def layer(x, weight_shape, bias_shape):\n",
    "    \"\"\"\n",
    "    Defines the network layers\n",
    "    input:\n",
    "        - x: input vector of the layer\n",
    "        - weight_shape: shape the the weight maxtrix\n",
    "        - bias_shape: shape of the bias vector\n",
    "    output:\n",
    "        - output vector of the layer after the matrix multiplication and transformation\n",
    "    \"\"\"\n",
    "    \n",
    "    weight_init = tf.random_normal_initializer(stddev=(2.0/weight_shape[0])**0.5)\n",
    "    W = tf.get_variable(\"W\", weight_shape, initializer=weight_init)\n",
    "    \n",
    "    bias_init = tf.constant_initializer(value=0)\n",
    "    b = tf.get_variable(\"b\", bias_shape, initializer=bias_init)\n",
    "    \n",
    "    return tf.nn.relu(tf.matmul(x, W) + b)"
   ]
  },
  {
   "cell_type": "markdown",
   "metadata": {},
   "source": [
    "# Define Pooling Function"
   ]
  },
  {
   "cell_type": "code",
   "execution_count": 5,
   "metadata": {
    "collapsed": true
   },
   "outputs": [],
   "source": [
    "def pooling(x, k):\n",
    "    \"\"\"\n",
    "    Extracts the main information of the conv layer by performs the max pooling on the input x.\n",
    "    input:\n",
    "        x: A 4-D Tensor. [batch, in_height, in_width, in_channels]\n",
    "        k: The length of window\n",
    "    \"\"\"\n",
    "    \n",
    "    #value: A 4-D Tensor of the format specified by data_format. That is x in this case.\n",
    "    #ksize: A 1-D int Tensor of 4 elements. The size of the window for each dimension of input\n",
    "    #strides: A 1-D int Tensor of 4 elements. The stride of the sliding window for each dimension of input\n",
    "    #padding: A string, either 'VALID' or 'SAME'. Difference of 'VALID' and 'SAME' in tf.nn.max_pool:\n",
    "    #https://stackoverflow.com/questions/37674306/what-is-the-difference-between-same-and-valid-padding-in-tf-nn-max-pool-of-t\n",
    "    return tf.nn.max_pool(x, ksize=[1, k, k, 1], strides=[1, k, k, 1], padding='SAME')"
   ]
  },
  {
   "cell_type": "markdown",
   "metadata": {},
   "source": [
    "# Define Inference"
   ]
  },
  {
   "cell_type": "code",
   "execution_count": 6,
   "metadata": {
    "collapsed": true
   },
   "outputs": [],
   "source": [
    "def inference(x, keep_prob):\n",
    "    \"\"\"\n",
    "    define the structure of the whole network\n",
    "    input:\n",
    "        - x: a batch of pictures \n",
    "        (input shape = (batch_size*image_size))\n",
    "        - keep_prob: The keep_prob of dropout layer\n",
    "    output:\n",
    "        - a batch vector corresponding to the logits predicted by the network\n",
    "        (output shape = (batch_size*output_size)) \n",
    "    \"\"\"\n",
    "\n",
    "    # Reshape the input into Nx28x28x1 (N # of examples & 1 due to Black-White)\n",
    "    # flatten \n",
    "    x = tf.reshape(x, shape=[-1, 28, 28, 1])\n",
    "    \n",
    "    with tf.variable_scope(\"convolutional_layer_1\"):\n",
    "\n",
    "        # convolutional layer with 32 filters and spatial extent e = 5\n",
    "        # this causes in taking an input of volume with depth of 1 and producing an output tensor with 32 channels.\n",
    "        convolutional_1 = module_conv2d(x, [5, 5, 1, 32], [32])\n",
    "        \n",
    "        # output in passed to max-pooling to be compressed (k=2 non-overlapping).\n",
    "        pooling_1 = pooling(convolutional_1, k)\n",
    "\n",
    "    with tf.variable_scope(\"convolutional_layer_2\"):\n",
    "        \n",
    "        # convolutional layer with 64 filters with spatial extent e = 5\n",
    "        # taking an input tensor with depth of 32 and \n",
    "        # producing an output tensor with depth 64\n",
    "        convolutional_2 = module_conv2d(pooling_1, [5, 5, 32, 64], [64])\n",
    "        \n",
    "        # output in passed to max-pooling to be compressed (k=2 non-overlapping).\n",
    "        pooling_2 = pooling(convolutional_2, k)\n",
    "\n",
    "    with tf.variable_scope(\"fully_connected\"):\n",
    "        \n",
    "        # pass the output of max-pooling into a Fully_Connected layer\n",
    "        # use reshape to flatten the tensor\n",
    "        # We have 64 filters\n",
    "        # To find the height & width after max-pooling:\n",
    "        # roundup((16-5)/2) + 1 = 7\n",
    "        pool_2_flat = tf.reshape(pooling_2, [-1, 7*7*64])\n",
    "        \n",
    "        # after reshaping, use fully-connected layer to compress\n",
    "        # the flattened representation into a hidden layer of size 784?\n",
    "        # each feature map has a height & width of 7\n",
    "        fc_1 = layer(pool_2_flat, [7*7*64, 784], [784])\n",
    "        \n",
    "        # apply dropout. You may try to add drop out after every pooling layer.\n",
    "        # outputs the input element scaled up by 1/keep_prob\n",
    "        # The scaling is so that the expected sum is unchanged\n",
    "        fc_1_drop = tf.nn.dropout(fc_1, keep_prob)\n",
    "\n",
    "    with tf.variable_scope(\"output\"):\n",
    "        output = layer(fc_1_drop, [784, 10], [10])\n",
    "\n",
    "    return output\n"
   ]
  },
  {
   "cell_type": "markdown",
   "metadata": {},
   "source": [
    "# Define Loss Function"
   ]
  },
  {
   "cell_type": "code",
   "execution_count": 7,
   "metadata": {
    "collapsed": true
   },
   "outputs": [],
   "source": [
    "def loss(output, y):\n",
    "    \"\"\"\n",
    "    Computes softmax cross entropy between logits and labels and then the loss \n",
    "    \n",
    "    intput:\n",
    "        - output: the output of the inference function \n",
    "        - y: true value of the sample batch\n",
    "        \n",
    "        the two have the same shape (batch_size * num_of_classes)\n",
    "    output:\n",
    "        - loss: loss of the corresponding batch (scalar tensor)\n",
    "    \n",
    "    \"\"\"\n",
    "    xentropy = tf.nn.softmax_cross_entropy_with_logits(logits=output, labels=y)    \n",
    "    loss = tf.reduce_mean(xentropy)\n",
    "    return loss"
   ]
  },
  {
   "cell_type": "markdown",
   "metadata": {},
   "source": [
    "# Define the Optimizer and Training Target"
   ]
  },
  {
   "cell_type": "code",
   "execution_count": 8,
   "metadata": {
    "collapsed": true
   },
   "outputs": [],
   "source": [
    "def training(cost, global_step):\n",
    "    \"\"\"\n",
    "    defines the necessary elements to train the network\n",
    "    \n",
    "    intput:\n",
    "        - cost: the cost is the loss of the corresponding batch\n",
    "        - global_step: number of batch seen so far, it is incremented by one each time the .minimize() function is called\n",
    "    \"\"\"\n",
    "    tf.summary.scalar(\"cost\", cost)\n",
    "    # using Adam Optimizer \n",
    "    optimizer = tf.train.AdamOptimizer(learning_rate)\n",
    "    train_op = optimizer.minimize(cost, global_step=global_step)\n",
    "    return train_op"
   ]
  },
  {
   "cell_type": "markdown",
   "metadata": {},
   "source": [
    "# Define evaluation method"
   ]
  },
  {
   "cell_type": "code",
   "execution_count": 9,
   "metadata": {
    "collapsed": true
   },
   "outputs": [],
   "source": [
    "def evaluate(output, y):\n",
    "    \"\"\"\n",
    "    evaluates the accuracy on the validation set \n",
    "    input:\n",
    "        -output: prediction vector of the network for the validation set\n",
    "        -y: true value for the validation set\n",
    "    output:\n",
    "        - accuracy: accuracy on the validation set (scalar between 0 and 1)\n",
    "    \"\"\"\n",
    "    #correct prediction is a binary vector which equals one when the output and y match\n",
    "    #otherwise the vector equals 0\n",
    "    #tf.cast: change the type of a tensor into another one\n",
    "    #then, by taking the mean of the tensor, we directly have the average score, so the accuracy\n",
    "    \n",
    "    correct_prediction = tf.equal(tf.argmax(output, 1), tf.argmax(y, 1))\n",
    "    accuracy = tf.reduce_mean(tf.cast(correct_prediction, tf.float32))\n",
    "    tf.summary.scalar(\"validation_error\", (1.0 - accuracy))\n",
    "    return accuracy"
   ]
  },
  {
   "cell_type": "markdown",
   "metadata": {},
   "source": [
    "# Main Function"
   ]
  },
  {
   "cell_type": "code",
   "execution_count": 10,
   "metadata": {},
   "outputs": [
    {
     "name": "stdout",
     "output_type": "stream",
     "text": [
      "[5, 5, 1, 32]\n",
      "[5, 5, 32, 64]\n",
      "Epoch: 0001 cost = 0.308016302\n",
      "Validation Error: 0.017400026321411133\n",
      "Epoch: 0002 cost = 0.057096902\n",
      "Validation Error: 0.014800012111663818\n",
      "Epoch: 0003 cost = 0.038478758\n",
      "Validation Error: 0.010999977588653564\n",
      "Epoch: 0004 cost = 0.028395608\n",
      "Validation Error: 0.010399997234344482\n",
      "Epoch: 0005 cost = 0.022281919\n",
      "Validation Error: 0.008199989795684814\n",
      "Epoch: 0006 cost = 0.017439388\n",
      "Validation Error: 0.008199989795684814\n",
      "Epoch: 0007 cost = 0.014125790\n",
      "Validation Error: 0.009000003337860107\n",
      "Epoch: 0008 cost = 0.011410017\n",
      "Validation Error: 0.008599996566772461\n",
      "Epoch: 0009 cost = 0.010277575\n",
      "Validation Error: 0.008800029754638672\n",
      "Epoch: 0010 cost = 0.007236347\n",
      "Validation Error: 0.0073999762535095215\n",
      "Epoch: 0011 cost = 0.007085114\n",
      "Validation Error: 0.008199989795684814\n",
      "Epoch: 0012 cost = 0.006812946\n",
      "Validation Error: 0.007799983024597168\n",
      "Epoch: 0013 cost = 0.005700244\n",
      "Validation Error: 0.009199976921081543\n",
      "Epoch: 0014 cost = 0.005203828\n",
      "Validation Error: 0.0073999762535095215\n",
      "Epoch: 0015 cost = 0.005740511\n",
      "Validation Error: 0.008000016212463379\n",
      "Epoch: 0016 cost = 0.003915317\n",
      "Validation Error: 0.006399989128112793\n",
      "Epoch: 0017 cost = 0.004148671\n",
      "Validation Error: 0.006600022315979004\n",
      "Epoch: 0018 cost = 0.003771715\n",
      "Validation Error: 0.007799983024597168\n",
      "Epoch: 0019 cost = 0.003462298\n",
      "Validation Error: 0.007600009441375732\n",
      "Epoch: 0020 cost = 0.002938308\n",
      "Validation Error: 0.0067999958992004395\n",
      "Epoch: 0021 cost = 0.003238505\n",
      "Validation Error: 0.008000016212463379\n",
      "Epoch: 0022 cost = 0.002607402\n",
      "Validation Error: 0.007200002670288086\n",
      "Epoch: 0023 cost = 0.002440472\n",
      "Validation Error: 0.008199989795684814\n",
      "Epoch: 0024 cost = 0.003024542\n",
      "Validation Error: 0.00700002908706665\n",
      "Epoch: 0025 cost = 0.002859348\n",
      "Validation Error: 0.009199976921081543\n",
      "Epoch: 0026 cost = 0.003601252\n",
      "Validation Error: 0.007799983024597168\n",
      "Epoch: 0027 cost = 0.002693382\n",
      "Validation Error: 0.006200015544891357\n",
      "Epoch: 0028 cost = 0.001964052\n",
      "Validation Error: 0.006600022315979004\n",
      "Epoch: 0029 cost = 0.001987511\n",
      "Validation Error: 0.006600022315979004\n",
      "Epoch: 0030 cost = 0.002376878\n",
      "Validation Error: 0.007600009441375732\n",
      "Epoch: 0031 cost = 0.001985517\n",
      "Validation Error: 0.008599996566772461\n",
      "Epoch: 0032 cost = 0.001805881\n",
      "Validation Error: 0.0067999958992004395\n",
      "Epoch: 0033 cost = 0.001436837\n",
      "Validation Error: 0.008400022983551025\n",
      "Epoch: 0034 cost = 0.002215165\n",
      "Validation Error: 0.006200015544891357\n",
      "Epoch: 0035 cost = 0.002133315\n",
      "Validation Error: 0.007200002670288086\n",
      "Epoch: 0036 cost = 0.001534149\n",
      "Validation Error: 0.008400022983551025\n",
      "Epoch: 0037 cost = 0.001586598\n",
      "Validation Error: 0.00700002908706665\n",
      "Epoch: 0038 cost = 0.001142073\n",
      "Validation Error: 0.0073999762535095215\n",
      "Epoch: 0039 cost = 0.000791162\n",
      "Validation Error: 0.00700002908706665\n",
      "Epoch: 0040 cost = 0.001318372\n",
      "Validation Error: 0.006399989128112793\n",
      "Epoch: 0041 cost = 0.000903740\n",
      "Validation Error: 0.00700002908706665\n",
      "Epoch: 0042 cost = 0.001346101\n",
      "Validation Error: 0.0073999762535095215\n",
      "Epoch: 0043 cost = 0.001855884\n",
      "Validation Error: 0.0073999762535095215\n",
      "Epoch: 0044 cost = 0.001384880\n",
      "Validation Error: 0.0059999823570251465\n",
      "Epoch: 0045 cost = 0.000894144\n",
      "Validation Error: 0.007200002670288086\n",
      "Epoch: 0046 cost = 0.001028320\n",
      "Validation Error: 0.007200002670288086\n",
      "Epoch: 0047 cost = 0.001564056\n",
      "Validation Error: 0.008199989795684814\n",
      "Epoch: 0048 cost = 0.002123821\n",
      "Validation Error: 0.007799983024597168\n",
      "Epoch: 0049 cost = 0.001083129\n",
      "Validation Error: 0.00700002908706665\n",
      "Epoch: 0050 cost = 0.001328421\n",
      "Validation Error: 0.0067999958992004395\n",
      "Optimization Done\n",
      "Test Accuracy: 0.9934\n",
      "Execution time was 7029.782\n"
     ]
    }
   ],
   "source": [
    "if __name__ == '__main__':\n",
    "    \n",
    "    #please, make sure you changed for your own path \n",
    "    log_files_path = 'C:/Users/Ali/logs/CNNs/'\n",
    "    start_time = time.time()\n",
    "    \n",
    "    with tf.Graph().as_default():\n",
    "\n",
    "        with tf.variable_scope(\"MNIST_convoultional_model\"):\n",
    "            #neural network definition\n",
    "            \n",
    "            #the input variables are first define as placeholder \n",
    "            # a placeholder is a variable/data which will be assigned later \n",
    "            # MNIST data image of shape 28*28=784\n",
    "            x = tf.placeholder(\"float\", [None, 784]) \n",
    "            # 0-9 digits recognition\n",
    "            y = tf.placeholder(\"float\", [None, 10])  \n",
    "            \n",
    "            # dropout probability\n",
    "            keep_prob = tf.placeholder(tf.float32) \n",
    "            #the network is defined using the inference function defined above in the code\n",
    "            output = inference(x, keep_prob)\n",
    "            cost = loss(output, y)\n",
    "            #initialize the value of the global_step variable \n",
    "            # recall: it is incremented by one each time the .minimise() is called\n",
    "            global_step = tf.Variable(0, name='global_step', trainable=False)\n",
    "            train_op = training(cost, global_step)\n",
    "            #evaluate the accuracy of the network (done on a validation set)\n",
    "            eval_op = evaluate(output, y)\n",
    "            summary_op = tf.summary.merge_all()\n",
    "            saver = tf.train.Saver()\n",
    "            sess = tf.Session()\n",
    "            \n",
    "            summary_writer = tf.summary.FileWriter(log_files_path, sess.graph)\n",
    "            init_op = tf.global_variables_initializer()\n",
    "            sess.run(init_op)\n",
    "            \n",
    "            # Training cycle\n",
    "            for epoch in range(training_epochs):\n",
    "\n",
    "                avg_cost = 0.0\n",
    "                total_batch = int(mnist.train.num_examples/batch_size)\n",
    "                \n",
    "                # Loop over all batches\n",
    "                for i in range(total_batch):\n",
    "                    \n",
    "                    minibatch_x, minibatch_y = mnist.train.next_batch(batch_size)\n",
    "                    \n",
    "                    # Fit training using batch data\n",
    "                    sess.run(train_op, feed_dict={x: minibatch_x, y: minibatch_y, keep_prob: 0.5})\n",
    "                    \n",
    "                    # Compute average loss\n",
    "                    avg_cost += sess.run(cost, feed_dict={x: minibatch_x, y: minibatch_y, keep_prob: 0.5})/total_batch\n",
    "                \n",
    "                \n",
    "                # Display logs per epoch step\n",
    "                if epoch % display_step == 0:\n",
    "                    \n",
    "                    print(\"Epoch:\", '%04d' % (epoch+1), \"cost =\", \"{:0.9f}\".format(avg_cost))\n",
    "                    \n",
    "                    #probability dropout of 1 during validation\n",
    "                    accuracy = sess.run(eval_op, feed_dict={x: mnist.validation.images, y: mnist.validation.labels, keep_prob: 1})\n",
    "                    print(\"Validation Error:\", (1 - accuracy))\n",
    "                    \n",
    "                    # probability dropout of 0.25 during training\n",
    "                    summary_str = sess.run(summary_op, feed_dict={x: minibatch_x, y: minibatch_y, keep_prob: 0.25})\n",
    "                    summary_writer.add_summary(summary_str, sess.run(global_step))\n",
    "                    \n",
    "                    saver.save(sess, log_files_path + 'model-checkpoint', global_step=global_step)\n",
    "                    \n",
    "            print(\"Optimization Done\")\n",
    "                    \n",
    "            accuracy = sess.run(eval_op, feed_dict={x: mnist.test.images, y: mnist.test.labels, keep_prob: 1})\n",
    "            print(\"Test Accuracy:\", accuracy)\n",
    "                    \n",
    "        elapsed_time = time.time() - start_time\n",
    "        print('Execution time was %0.3f' % elapsed_time)"
   ]
  },
  {
   "cell_type": "code",
   "execution_count": null,
   "metadata": {
    "collapsed": true
   },
   "outputs": [],
   "source": []
  },
  {
   "cell_type": "code",
   "execution_count": null,
   "metadata": {
    "collapsed": true
   },
   "outputs": [],
   "source": []
  }
 ],
 "metadata": {
  "kernelspec": {
   "display_name": "Python 3",
   "language": "python",
   "name": "python3"
  },
  "language_info": {
   "codemirror_mode": {
    "name": "ipython",
    "version": 3
   },
   "file_extension": ".py",
   "mimetype": "text/x-python",
   "name": "python",
   "nbconvert_exporter": "python",
   "pygments_lexer": "ipython3",
   "version": "3.6.3"
  }
 },
 "nbformat": 4,
 "nbformat_minor": 2
}
